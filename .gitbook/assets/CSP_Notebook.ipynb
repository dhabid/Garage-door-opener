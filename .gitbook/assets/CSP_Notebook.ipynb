{
 "cells": [
  {
   "cell_type": "markdown",
   "metadata": {},
   "source": [
    "# **Creating school timetables with CSP's**\n",
    "\n",
    "This project was carried out in the context of the Fundamentals of Artificial Intelligence course of the Artificial Intelligence master's degree at IPCA.    \n",
    "**Work done by:**\n",
    "* David Rodigues - a21177@alunos.ipca.pt\n",
    "* André Araújo - 21185@alunos.ipca.pt\n"
   ]
  },
  {
   "cell_type": "markdown",
   "metadata": {},
   "source": [
    "## **Objective**\n",
    "\n",
    "---\n",
    "\n",
    "This Notebook is presented in the context of the **Fundamentals of Artificial Intelligence** course and aims to assess knowledge related to search problems, namely Constraint Satisfaction Problems (CSP). The proposed challenge was to implement an algorithm that implements a CSP and solves the problem of **setting school timetables**. This specific problem can be called the **Scheduling Problem**."
   ]
  },
  {
   "cell_type": "markdown",
   "metadata": {},
   "source": [
    "## **Introduction to CSP's**\n",
    "\n",
    "---\n",
    "\n",
    "### **Concept**\n",
    "\n",
    "CSPs (Constraint Satisfaction Problems) are precisely algorithms for solving constraint satisfaction problems. That is, a certain search problem has several possible ways of reaching the solution, but in this case, with a CSP, the search for the solution will be based on a set of user-defined constraints. The algorithm will use the constraints with a heuristic (guide) to reach a desired solution more quickly.\n",
    "\n",
    "### **Components**\n",
    "\n",
    "The CSP contains the following key components in order to function:\n",
    "1. **Set of Variables** - The variables are a set of parameters that are particularly important to the problem. For example, in the Sudoku problem, the variables would be the positions on the grid.\n",
    "\n",
    "2. **Set of Domains** - The domains or domain is the set of options that the variables can take in the problem. Using Sudoku again as an example, the domain would be the set of possible values from 0 to 9 for each position on the grid (variables).\n",
    "\n",
    "3. **Set of Constraints** - The constraints are therefore the set of information that the algorithm has to fulfill in order to conclude with a solution. In the case of Sudoku, the constraints are the rules of the game, namely that the sum of the rows, columns and diagonals of each division of the grid adds up to 9. There is also a division between Soft Constraints and Hard Constraints which defines that Soft constraints are optional, while Hard constraints are mandatory.\n",
    "\n",
    "### **Types of algorithms**\n",
    "\n",
    "There are various approaches to solving search problems with CSPs, but there are three types that are most commonly used:\n",
    "1. Arc-Consistency Algorithm (AC-3)\n",
    "\n",
    "2. Backtracking Algorithm\n",
    "\n",
    "3. Min-Conflits\n",
    "\n",
    "\n",
    "Each of these algorithms will be addressed in the implementation of the problem."
   ]
  },
  {
   "cell_type": "markdown",
   "metadata": {},
   "source": [
    "## **Introduction to the problem**\n",
    "\n",
    "---\n",
    "\n",
    "For this project, the challenge is to define timetables for classes in a school, satisfying a set of requirements. This problem demonstrates one of the many real applications of CSP's and here we will be encouraged to apply the concepts covered in class. \n",
    "\n",
    "To begin with, the following timetable template has been defined:\n",
    "\n",
    "![Timetable Template](images/Horário_template.png)\n",
    "\n",
    "It can be seen, therefore, that the timetable offers the possibility of classes from Monday to Friday, where each day has 4 possible blocks of classes. Therefore, each day a subject can be taught in the 9-11am, 11-13am, 2-4pm and 4-6pm blocks.\n",
    "\n",
    "In addition to the timetable, there are a number of requirements that have been imposed: \n",
    "* Each class lasts 2 hours and they all take place during the week.\n",
    "\n",
    "* All classes have 4 to 10 lessons a week.\n",
    "\n",
    "* A class should not have more than 3 lessons a day.\n",
    "\n",
    "* A class should not have more than 4 days of lessons per week (one day free).\n",
    "\n",
    "* Only 1 or 2 lessons per morning/afternoon can be taught.\n",
    "\n",
    "![Alt text](images/image-1.png)\n",
    "\n",
    "After the requirements, there are also a number of preferences that can be implemented if possible:\n",
    "* Each class should have the majority of lessons in the same room.\n",
    "\n",
    "* Teachers may have a preference for timetables (availability).\n",
    "\n",
    "With all this, the aim will be to find timetables for each class that meet the above requirements and whose solution has the fewest holes. In other words, solutions will be more valuable if the number of trips to school for each class and the number of rooms used are minimized. This will require additional constraints to make the problem more realistic."
   ]
  },
  {
   "cell_type": "markdown",
   "metadata": {},
   "source": [
    "## **CSP libraries**\n",
    "\n",
    "---\n",
    "\n",
    "To begin with, the problem will be simplified in order to guarantee in the first phase that the sets of restrictions are valid and that they work. Later, when it is guaranteed that all the concepts work fully, the scale of the problem will be increased.\n",
    "\n",
    "Therefore, we will start by choosing the Platform that will be used to solve the schedules. That is, the library responsible for processing CSPs will be chosen. There are several projects available in this field, but two libraries have attracted the most attention due to their popularity and versatility.\n",
    "\n",
    "1. [Aima-Python](https://github.com/aimacode/aima-python): This was the professor's initial recommendation. The github repository associated with the library has lots of examples in the field of Artificial Intelligence, and also contains some CSP examples. The project has good documentation, an active community and is also easy to use. However, it can be a little slow for complex applications such as our problem.\n",
    "\n",
    "2. [Python-Constraint](https://github.com/python-constraint/python-constraint): A simpler library than the previous one, which only contains CSPs. The API (Application Programming Interface) is simpler and contains most of the CSP algorithms, but not AC-3. The documentation is not as in-depth as its predecessor and the community support is more stagnant over time. The big advantage is essentially the speed of processing. This means that this library is more optimized.\n",
    "\n",
    "The choice of library was difficult, but after several tests, it was concluded that Python-Constraint would be the best choice, as it solved the problems in considerably less time. That said, it also makes sense to give some credit to the authors of the library for the simplicity of the API and the ease of invoking it. Whereas aima-python required several installation steps, this library comes all in one *PIP* package.\n",
    "\n",
    "Speed of processing is essential when developing applications of this complexity."
   ]
  },
  {
   "cell_type": "markdown",
   "metadata": {},
   "source": [
    "## **Theoretical Implementation**\n",
    "\n",
    "---\n",
    "\n",
    "### **Environment preparation and packages**\n",
    "\n",
    "To use the python-constraint library, and this notebook in general, you will need the following tools:\n",
    "1. **Python** - As you would expect, you will need Python installed on your machine in order to use code from this language. The library's documentation doesn't make it 100% clear which versions of Python are supported, but we recommend using Python 3.9 or 3.10. Generally, you should use versions close to the most recent, but never the most recent as it may be in a \"testing phase\".\n",
    "\n",
    "2. **Code editor** - To program in a certain language, a code editor is usually used. The platforms normally used for python are Pycharm, Visual Studio and VS code. VS code was used in this situation because of its versatility and ease of use. This tool has a convenient function that allows you to \"push\" changes directly to the github repository.\n",
    "\n",
    "3. **Virtual Environment** - This requirement is optional. A virtual environment dedicated to this work can only be distinguished from other installations carried out in the base environment. The most commonly used platform is Anaconda, which allows the creation of virtual environments that support python.\n",
    "\n",
    "4. **Jupyter Notebook** - You need to have the Jupyter Notebook extension installed on your text editing platform to access a well-organized view of your work. Jupyter allows you to switch between text cells in Markdown and code cells (python). This allows you to follow the code directly with comments and explanations.\n",
    "\n",
    "![Alt text](images/image-3.png)\n",
    "\n",
    "The installation procedures are as follows:\n",
    "\n",
    "* **Python** - You can install version 3.9.13 from this [link](https://www.python.org/downloads/release/python-3913/). On the site, look below and click on \"Windows installer (64 bit)\", which is the recommended installation. After downloading, you should follow the *Wizzard* installation steps, and at the end you should click on \"Add python to path\", as in the following image.\n",
    "\n",
    "\n",
    "<img src=\"images/image-4.png\" alt=\"drawing\" width=\"400\"/>\n",
    "\n",
    "\n",
    "* **Code editor** - There are plenty of code editor options, but if you're interested in Vs Code, the following [link](https://code.visualstudio.com/download) takes you to its installation page. All you have to do is select your machine's operating system, download the installer and follow the instructions.\n",
    "\n",
    "\n",
    "* **Anaconda** - Anaconda is the best-known virtual environment platform and is therefore recommended. To install Anaconda there is the following [link](https://www.anaconda.com/download#downloads). At the bottom of the site you will see the Operating System options. You should proceed in the same way as with the previous installation.\n",
    "\n",
    "\n",
    "* **Jupyter Notebook** - jupyter can be installed as an extension of Vs code. Simply click on \"Extensions\" in the left-hand panel or \"Control + Shift + X\" and type \"Jupyter Notebook\" into the search bar. It should install the first search result.\n"
   ]
  },
  {
   "cell_type": "markdown",
   "metadata": {},
   "source": [
    "### **Including the python-constraint library**\n",
    "\n",
    "To import the CSP library into the system you need to run this command in the respective environment or in the python console itself:\n",
    "\n",
    "`pip install python-constraint`\n",
    "\n",
    "After the quick installation, the library will be imported into this Notebook as follows."
   ]
  },
  {
   "cell_type": "code",
   "execution_count": 1,
   "metadata": {},
   "outputs": [],
   "source": [
    "# Import constraint library\n",
    "from constraint import *"
   ]
  },
  {
   "cell_type": "markdown",
   "metadata": {},
   "source": [
    "### **Definition of variables**\n",
    "\n",
    "An important step in solving the problem is to define the variables.\n",
    "\n",
    "As presented above, there will be **Subjects**, **Lessons**, **Teachers**, **Classes** and **Classrooms**. It has been assumed that each teacher, class and room will be associated with a set of subjects. In other words, a teacher can teach a set of subjects, a class will have a set of subjects to attend and each room can receive a certain set of subjects.\n",
    "\n",
    "As this CSP is binary, there will only be one variable and sets related to it. Thus, the variables will be **Courses**, as they are associated with all the sets of **Classes [C]**, **Teachers [P]** and **Rooms [R]**.\n",
    "It's worth mentioning that between 4 and 10 subjects will be defined for each class. In this case we'll have 2 classes and the way to distinguish the various classes is as follows:\n",
    "\n",
    "![Alt text](images/image-5.png)"
   ]
  },
  {
   "cell_type": "code",
   "execution_count": 2,
   "metadata": {},
   "outputs": [],
   "source": [
    "# variables\n",
    "C11 = 'D11 D12 D13 D14 D15'.split()\n",
    "C22 = 'D21 D22 D23 D24 D25'.split()\n",
    "\n",
    "P11 = 'D11 D22 D13 D24 D25'.split()\n",
    "P22 = 'D12 D14 D21 D23 D15'.split()\n",
    "\n",
    "R11 = 'D11 D12 D14 D15 D22 D25'.split()\n",
    "R22 = 'D13 D21 D23 D24'.split()"
   ]
  },
  {
   "cell_type": "markdown",
   "metadata": {},
   "source": [
    "Before the sets were actually defined, the following situation had to be considered:\n",
    "\n",
    "As a rule, a class has, for example, 5 subjects to be taught per week. However, each of them is normally taught twice a week. In other words, in this case, for example, we could have subject D14 appearing twice in the timetable, just like the others. In order to take this into account, a list was created for each set that repeats each defined subject twice. In other words, we will create cycles that iterate through each set and repeat the subjects, assigning the letters \"-A\" and \"-B\" as a way of differentiating them. The following diagram shows the situation more easily:\n",
    "\n",
    "![Alt text](images/image-8.png)\n",
    "\n",
    "\n",
    "The classes, unlike the other sets, have been created in list form as this will later be essential for checking one of the restrictions. The only difference is that the list is sorted and the set is not."
   ]
  },
  {
   "cell_type": "code",
   "execution_count": 3,
   "metadata": {},
   "outputs": [],
   "source": [
    "C1 = list([f'{disc}A' for disc in C11] + [f'{disc}B' for disc in C11]) \n",
    "C2 = list([f'{disc}A' for disc in C22] + [f'{disc}B' for disc in C22])\n",
    "\n",
    "P1 = set(f'{disc}A' for disc in P11) | set(f'{disc}B' for disc in P11) \n",
    "P2 = set(f'{disc}A' for disc in P22) | set(f'{disc}B' for disc in P22)\n",
    "\n",
    "R1 = set(f'{disc}A' for disc in R11) | set(f'{disc}B' for disc in R11) \n",
    "R2 = set(f'{disc}A' for disc in R22) | set(f'{disc}B' for disc in R22) "
   ]
  },
  {
   "cell_type": "markdown",
   "metadata": {},
   "source": [
    "-----------\n",
    "### **Initializing the problem**\n",
    "\n",
    "As we use the **Python Constraint** library, for this problem we have three different options for initializing it and solving it. These are Backtracking, Recursive Backtracking and finally Min-Conflict Solver. Below is an explanation of each of these."
   ]
  },
  {
   "cell_type": "markdown",
   "metadata": {},
   "source": [
    "#### **1. Backtracking**\n",
    "\n",
    "Backtracking is an algorithm used to find all (or some) solutions to computational problems that incrementally builds candidate solutions and abandons a candidate (\"backtracks\") as soon as it determines that the candidate cannot be completed to a valid solution.\n",
    "\n",
    "**Startup:**\n",
    "\n",
    "`sch_problem = Problem()` or `sch_problem = Problem(BacktrackingSolver())`\n",
    "\n",
    "**How ​​backtracking works:**<br>\n",
    "\n",
    "The algorithm assigns values ​​to variables incrementally, exploring different possibilities.<br>\n",
    "If the value assigned to a variable violates a constraint or leads to an invalid state, the algorithm goes back and explores alternative values ​​for the previous variable.<br>\n",
    "This process continues until a solution is found or all possibilities are exhausted."
   ]
  },
  {
   "cell_type": "markdown",
   "metadata": {},
   "source": [
    "-----------\n",
    "#### **2. Recursive Backtracking**\n",
    "\n",
    "Recursive backtracking is an extension of the Backtracking algorithm in which the process of assigning values ​​to variables is handled through recursive calls.\n",
    "\n",
    "**Startup:**\n",
    "\n",
    "`sch_problem = Problem(RecursiveBacktrackingSolver())`\n",
    "\n",
    "**How ​​recursive backtracking works:**\n",
    "\n",
    "The algorithm starts by choosing a variable and assigning it a value.<br>\n",
    "If the assignment violates a constraint, the algorithm goes back and explores other values ​​for the variable.<br>\n",
    "The process is repeated recursively for each variable until a solution is found or the search space is exhausted.<br>"
   ]
  },
  {
   "cell_type": "markdown",
   "metadata": {},
   "source": [
    "-----------\n",
    "#### **3. Min Conficts Solver**\n",
    "\n",
    "The Min Conficts algorithm is an iterative improvement approach specifically designed for CSPs. It focuses on minimizing the number of assignments that have conflicts.\n",
    "\n",
    "**Startup:**\n",
    "\n",
    "`sch_problem = Problem(MinConflictsSolver())`\n",
    "\n",
    "**How ​​Min Conflicts Solver works:**\n",
    "\n",
    "It starts with an initial assignment of values ​​to variables.<br>\n",
    "Iteratively selects a variable that conflicts with its constraints.<br>\n",
    "Changes the value of the selected variable to reduce conflicts.<br>\n",
    "Repeat until a solution is found or a stopping criterion is met.<br>\n",
    "\n",
    "**Key Point:**<br>\n",
    "Unlike Backtracking, Min Conflicts Solver does not explore the entire search space. Instead, it aims to improve an existing assignment by making local changes that reduce conflicts.\n",
    "\n",
    "---------------"
   ]
  },
  {
   "cell_type": "code",
   "execution_count": 4,
   "metadata": {},
   "outputs": [],
   "source": [
    "sch_problem = Problem(MinConflictsSolver())"
   ]
  },
  {
   "cell_type": "markdown",
   "metadata": {},
   "source": [
    "\n",
    "As we can see from the code above, we chose to choose the Min Conflicts Solver algorithm because it gives a result faster than the others."
   ]
  },
  {
   "cell_type": "markdown",
   "metadata": {},
   "source": [
    "------\n",
    "### **Domain**\n",
    "\n",
    "Before defining the problem domain, it is necessary to address the resolution strategy. Knowing that the variables are the Disciplines, it is logical to think that these have to be assigned to spaces in the timetables. The timetable model to be used has already been discussed previously, it now remains to materialize it here. It is desired that the CSP determines positions for the subjects, so numbers were defined for each space in the timetable, as it is a more \"computer-friendly\" notation.\n",
    "\n",
    "| |Monday | Tuesday | Wednesday | Thursday | Friday|\n",
    "| ----------- | ------- | -------- | -------- | ------- | -------- |\n",
    "|[9:00 am - 11:00 am] | 1 | 2 | 3 | 4 | 5 |\n",
    "|[11h00 - 13h00]|6 | 7 | 8 | 9 | 10 |\n",
    "|[2pm - 4pm]| 11 | 12 | 13 | 14 | 15 |\n",
    "|[4pm - 6pm]|16 | 17 | 18 | 19 | 20 |\n",
    "\n",
    "The following table allows us to understand that if the CSP assigns, for example, number **14** to the subject **D23-A**, this means that this subject will be taught on Thursday from 2:00 pm to 4:00 pm .\n",
    "\n",
    "In Constraint Satisfaction Problems, the domain represents the set of possible values ​​that each variable can assume. <br>\n",
    "For this problem, we define two sets of variables: P1 (Teachers from Class 1), P2 (Teachers from Class 2).<br>\n",
    "The domain of each set of variables is defined based on teacher availability."
   ]
  },
  {
   "cell_type": "code",
   "execution_count": 5,
   "metadata": {},
   "outputs": [],
   "source": [
    "sch_problem.addVariables(C1, [1,6,11,16, 2,7,12,17, 4,9,14,19, 5,10,15,20]) \n",
    "sch_problem.addVariables(C2, [2,7,12,17, 3,8,13,18, 4,9,14,19, 5,10])               "
   ]
  },
  {
   "cell_type": "markdown",
   "metadata": {},
   "source": [
    "For the class 1 (P1) teacher, the domain is explicitly defined as a list of specific values ​​[1,6,11,16, 2,7,12,17, 4,9,14,19, 5,10, 15,20]. <br>\n",
    "Each value in this list represents a time during which the teacher is available. In this case the teacher is only available on Mondays, Tuesdays, Thursdays and Fridays.\n",
    "\n",
    "For the teacher of class 2 (P2), the domain is defined in the same explicit way as before, these values ​​being [2,7,12,17, 3,8,13,18, 4,9,14,19, 5,10 ].<br>\n",
    "This indicates that the class 2 teacher is available from Tuesday to Friday, except Friday afternoon.\n",
    "\n",
    "The following diagram allows you to better visualize the availability of each teacher. Note that the numbers are distributed as stipulated at the beginning of the problem.\n",
    "\n",
    "![Alt text](images/image-7.png)"
   ]
  },
  {
   "cell_type": "markdown",
   "metadata": {},
   "source": [
    "\n",
    "-----\n",
    "### **Restrictions**\n",
    "\n",
    "The guidelines that control how variables relate to each other are known as constraints. Constraints in a CSP define the ranges of possible values ​​for variables."
   ]
  },
  {
   "cell_type": "markdown",
   "metadata": {},
   "source": [
    "------\n",
    "#### **Function 'day_count'**\n",
    "\n",
    "We start by creating the 'day_count' function, which was developed to deal with the restriction that a class cannot have more than 3 classes per day, regardless of the subject.<br> Let's analyze the code in detail:"
   ]
  },
  {
   "cell_type": "code",
   "execution_count": 6,
   "metadata": {},
   "outputs": [],
   "source": [
    "def day_count(*values):\n",
    "    variable_counts = {}\n",
    "    flag = False\n",
    "    \n",
    "    for v in set(values):\n",
    "        day = (v - 1) % 5 + 1\n",
    "        if day in variable_counts:\n",
    "            variable_counts[day] += 1\n",
    "        else:\n",
    "            variable_counts[day] = 1\n",
    "    \n",
    "    for val in variable_counts:\n",
    "        if(variable_counts[val] > 3) or variable_counts[val] < 2:\n",
    "            flag = True\n",
    "   \n",
    "    return not flag  "
   ]
  },
  {
   "cell_type": "markdown",
   "metadata": {},
   "source": [
    "The function receives a variable number of arguments (*values), which represent the slots assigned to a class on a given day.\n",
    "\n",
    "The function starts by creating a dictionary called 'variable_counts' to store the count of subjects per day. Then a loop goes through the variables (class slots) provided as arguments, calculates the corresponding day, and updates the count in the dictionary. The following scheme describes how the day of the week is obtained depending on the assigned time/slot:\n",
    "\n",
    "![Alt ​​text](images/image-10.png)\n",
    "\n",
    "To better understand the activity of the set(values) and variable_counts vectors, the following diagram demonstrates the process visually.\n",
    "\n",
    "![Alt ​​text](images/image-11.png)\n",
    "\n",
    "The second loop checks if there are any days in which the subject count is greater than 3 or less than 2. If this occurs, the flag variable is activated, indicating that the restriction of a maximum of 3 classes per day is not being met for some day of the week.\n",
    "\n",
    "Finally, the function returns False if the flag is activated, indicating that the restriction was not met. Otherwise, it returns True, indicating that the constraint has been satisfied for all days.\n",
    "\n",
    "This function can be used as part of an optimization algorithm to ensure that the class schedule meets established constraints, such as in the case where a class cannot have more than 3 classes in a single day."
   ]
  },
  {
   "cell_type": "markdown",
   "metadata": {},
   "source": [
    "-----\n",
    "#### **Function 'only_four'**\n",
    "\n",
    "Another restriction requested was that a class could not have more than 4 days of classes per week, so we created the 'only_four' function."
   ]
  },
  {
   "cell_type": "code",
   "execution_count": 7,
   "metadata": {},
   "outputs": [],
   "source": [
    "def only_four(*values):\n",
    "    variable_counts = {}\n",
    "    flag = False\n",
    "    \n",
    "    for v in set(values):\n",
    "        day = (v - 1) % 5 + 1\n",
    "        if day in variable_counts:\n",
    "            variable_counts[day] += 1\n",
    "        else:\n",
    "            variable_counts[day] = 1\n",
    "\n",
    "    if len(variable_counts) <= 4:\n",
    "        flag = True\n",
    "\n",
    "    return flag"
   ]
  },
  {
   "cell_type": "markdown",
   "metadata": {},
   "source": [
    "The logic of this function is similar to the previous function. Here, she counts the number of different days the class has classes during the week. If this count is less than or equal to 4, the flag variable is activated, indicating that the restriction of a maximum of 4 days with classes per week is being fulfilled. It is worth noting that, in fact, if there is a day without classes, the variable counts vector will have one less position.\n",
    "\n",
    "In the end, the function returns True if the flag is activated, indicating that the restriction has been satisfied. Otherwise, it returns False, indicating that the constraint was not satisfied."
   ]
  },
  {
   "cell_type": "markdown",
   "metadata": {},
   "source": [
    "-----\n",
    "\n",
    "#### **Funtion 'different_subject'**\n",
    "\n",
    "Another restriction we made was that a class could not have the same subject more than once in a single day.<br>\n",
    "This aims to ensure a diversity of subjects taught to the class during the day."
   ]
  },
  {
   "cell_type": "code",
   "execution_count": 8,
   "metadata": {},
   "outputs": [],
   "source": [
    "def different_subject(*values):\n",
    "    cnt = 0\n",
    "    counter = 0\n",
    "    for v in list(values):\n",
    "        counter = counter + 1\n",
    "        opose = (counter + 5 ) % 10\n",
    "        if v != (values[opose-1] - 5):\n",
    "            cnt = cnt + 1\n",
    "    if cnt >= 10: \n",
    "        return True\n",
    "    else:\n",
    "        cnt = 0\n",
    "        return False"
   ]
  },
  {
   "cell_type": "markdown",
   "metadata": {},
   "source": [
    "Like the other functions, this function receives a variable number of arguments (*values), which represent the slots allocated to a class on a given day.\n",
    "\n",
    "It uses a counter to record the slot being considered and calculates the next one on the same day (oppose).\n",
    "\n",
    "The cycle checks whether the discipline assigned to the current slot (v) is different from the discipline assigned to the next slot. If they are different, the count (cnt) increases.\n",
    "\n",
    "The condition if cnt >= 10 checks if the count is greater than or equal to 10, as there are 5 subjects in a class, which are given twice a week, so if the count is equal to or greater than 10, it means that the class has different subjects assigned each day and the constraint is satisfied.\n",
    "\n",
    "The function returns True if the restriction is satisfied (indicating that the class has different subjects on a given day) and False otherwise."
   ]
  },
  {
   "cell_type": "markdown",
   "metadata": {},
   "source": [
    "-----\n",
    "\n",
    "#### **Funtion 'no_gaps'**\n",
    "The 'no_gaps' function was developed so that the presented solution has fewer holes in the timetable."
   ]
  },
  {
   "cell_type": "code",
   "execution_count": 9,
   "metadata": {},
   "outputs": [],
   "source": [
    "def no_gaps(*values):\n",
    "    variable_counts = {}\n",
    "    flag = False\n",
    "    \n",
    "    for v in set(values):\n",
    "        day = (v - 1) % 5 + 1\n",
    "        if day in variable_counts:\n",
    "            variable_counts[day].append(v)\n",
    "        else:\n",
    "            variable_counts[day] = [v]\n",
    "\n",
    "    variable_counts_list = [variable_counts.get(day, []) for day in range(1, 6)]\n",
    "\n",
    "    for day, values in enumerate(variable_counts_list, start=1):\n",
    "        spacing_correct = all(values[i] - values[i-1] == 5 for i in range(1, len(values)))\n",
    "        if spacing_correct == False:\n",
    "            flag = True\n",
    "\n",
    "\n",
    "    return not flag   "
   ]
  },
  {
   "cell_type": "markdown",
   "metadata": {},
   "source": [
    "The function first counts the number of classes per day, storing the information in a 'variable_counts' dictionary. It then creates a list 'variable_counts_list' that represents the classes per day.\n",
    "\n",
    "The final loop checks the spacing between classes on each day. If the spacing between two consecutive classes is not 5 slots, the flag variable is activated, indicating that the restriction of no holes is not being met.\n",
    "\n",
    "In the end, the function returns False if the flag is activated, indicating that the restriction was not satisfied. Otherwise, it returns True, indicating that the constraint has been met."
   ]
  },
  {
   "cell_type": "markdown",
   "metadata": {},
   "source": [
    "------\n",
    "#### **Definition of restrictions**\n",
    "\n",
    "This is the part where we add the constraints to our problem.\n",
    "\n",
    "Constraints are added sequentially to the problem.<br>\n",
    "This means that during the search for a solution, the algorithm will try to find a solution that satisfies all the added constraints.<br>\n",
    "However, if there are conflicts between constraints, the order in which they are added can influence the final result. For example, if the restriction added later is \"stronger\" or more restrictive than the previous one, it may invalidate or partially modify the effect of the previous restriction.<br>\n",
    "\n",
    "Another aspect to mention are the \"AllDifferentConstraint\" restrictions initially defined. In practical implementation we will address them in more detail, but the information is that they are used to avoid repetition of rooms, teachers and subjects at the same times. A teacher cannot be in two rooms at the same time, for example."
   ]
  },
  {
   "cell_type": "code",
   "execution_count": 10,
   "metadata": {},
   "outputs": [],
   "source": [
    "# constraints\n",
    "sch_problem.addConstraint(AllDifferentConstraint(), C1)\n",
    "sch_problem.addConstraint(AllDifferentConstraint(), C2)\n",
    "sch_problem.addConstraint(AllDifferentConstraint(), P1)\n",
    "sch_problem.addConstraint(AllDifferentConstraint(), P2)\n",
    "sch_problem.addConstraint(AllDifferentConstraint(), R1)\n",
    "sch_problem.addConstraint(AllDifferentConstraint(), R2)\n",
    "sch_problem.addConstraint(FunctionConstraint(day_count), C1)\n",
    "sch_problem.addConstraint(FunctionConstraint(day_count), C2)\n",
    "sch_problem.addConstraint(FunctionConstraint(only_four), C1)\n",
    "sch_problem.addConstraint(FunctionConstraint(only_four), C2)\n",
    "sch_problem.addConstraint(FunctionConstraint(no_gaps), C1)\n",
    "sch_problem.addConstraint(FunctionConstraint(no_gaps), C2)\n",
    "sch_problem.addConstraint(FunctionConstraint(different_subject), C1)\n",
    "sch_problem.addConstraint(FunctionConstraint(different_subject), C2)"
   ]
  },
  {
   "cell_type": "markdown",
   "metadata": {},
   "source": [
    "We start by adding restrictions that all variables in each set (T1, T2, P1, P2, R1, R2) must have different values.<br>\n",
    "Then we added the restriction defined by the 'day_count' function for class 1 and class 2. This restriction limits the number of classes per day for both classes.<br>\n",
    "Then we added the restriction defined by the 'only_four' function for class 1 and class 2. This restriction limits the number of days with classes per week for both classes.<br>\n",
    "Finally, we added the restriction defined by the 'no_gaps' function for class 1 and class 2. This restriction seeks to minimize gaps in the class schedule.<br>"
   ]
  },
  {
   "cell_type": "markdown",
   "metadata": {},
   "source": [
    "-----\n",
    "### **Visualization**"
   ]
  },
  {
   "cell_type": "markdown",
   "metadata": {},
   "source": [
    "\n",
    "#### **Obtaining the solution**\n",
    "\n",
    "We start by obtaining the solution to the problem and storing the slot assignments in the 'solver_sch' variable."
   ]
  },
  {
   "cell_type": "code",
   "execution_count": 11,
   "metadata": {},
   "outputs": [],
   "source": [
    "solver_sch = sch_problem.getSolution()"
   ]
  },
  {
   "cell_type": "markdown",
   "metadata": {},
   "source": [
    "#### **Slot mapping**\n",
    "\n",
    "A 'slot_mapping' dictionary is defined to map time slots to corresponding days and times throughout the week.<br>\n",
    "A 'professors_dict' dictionary is also defined which serves to map which teacher teaches a certain subject."
   ]
  },
  {
   "cell_type": "code",
   "execution_count": 12,
   "metadata": {},
   "outputs": [],
   "source": [
    "# Mapping of slots to days and times\n",
    "slot_mapping = {\n",
    "    1: ('Monday', '9am-11am'),\n",
    "    6: ('Monday', '11am-1pm'),\n",
    "    11: ('Monday', '2pm-4pm'),\n",
    "    16: ('Monday', '4pm-6pm'),\n",
    "    2: ('Tuesday', '9am-11am'),\n",
    "    7: ('Tuesday', '11am-1pm'),\n",
    "    12: ('Tuesday', '2pm-4pm'),\n",
    "    17: ('Tuesday', '4pm-6pm'),\n",
    "    3: ('Wednesday', '9am-11am'),\n",
    "    8: ('Wednesday', '11am-1pm'),\n",
    "    13: ('Wednesday', '2pm-4pm'),\n",
    "    18: ('Wednesday', '4pm-6pm'),\n",
    "    4: ('Thursday', '9am-11am'),\n",
    "    9: ('Thursday', '11am-1pm'),\n",
    "    14: ('Thursday', '2pm-4pm'),\n",
    "    19: ('Thursday', '4pm-6pm'),\n",
    "    5: ('Friday', '9am-11am'),\n",
    "    10: ('Friday', '11am-1pm'),\n",
    "    15: ('Friday', '2pm-4pm'),\n",
    "    20: ('Friday', '4pm-6pm'),\n",
    "}\n",
    "\n",
    "\n",
    "professors_dict = {\n",
    "    'D11A' : ('P1  ',),\n",
    "    'D11B' : ('P1  ',),\n",
    "    'D22A' : ('P1  ',),\n",
    "    'D22B' : ('P1  ',),\n",
    "    'D13A' : ('P1  ',),\n",
    "    'D13B' : ('P1  ',),\n",
    "    'D24A' : ('P1  ',),\n",
    "    'D24B' : ('P1  ',),\n",
    "    'D25A' : ('P1  ',),\n",
    "    'D25B' : ('P1  ',),\n",
    "\n",
    "    'D12A' : ('P2  ',),\n",
    "    'D12B' : ('P2  ',), \n",
    "    'D14A' : ('P2  ',),\n",
    "    'D14B' : ('P2  ',),\n",
    "    'D21A' : ('P2  ',),\n",
    "    'D21B' : ('P2  ',),\n",
    "    'D23A' : ('P2  ',),\n",
    "    'D23B' : ('P2  ',),\n",
    "    'D15A' : ('P2  ',),\n",
    "    'D15B' : ('P2  ',),\n",
    "}"
   ]
  },
  {
   "cell_type": "markdown",
   "metadata": {},
   "source": [
    "#### **Function 'print_table_for_class'**\n",
    "\n",
    "The function is defined to print a timetable for a specific class. The table displays the days of the week and class times, indicating which subjects are assigned to each time slot and the respective room."
   ]
  },
  {
   "cell_type": "code",
   "execution_count": 13,
   "metadata": {},
   "outputs": [],
   "source": [
    "def print_table_for_class(class_name, class_variables, professors):\n",
    "    # Print table header for the given class\n",
    "    print(f\"\\033[1m{class_name}\\033[0m\")\n",
    "    print(f\"\\033[1m|Times\\\\Days     | Monday              | Tuesday             | Wednesday           | Thursday            | Friday              |\\033[0m\")\n",
    "\n",
    "    # Print table rows for the given class\n",
    "    if solver_sch is not None:\n",
    "        for time_range in ['9am-11am', '11am-1pm', '2pm-4pm', '4pm-6pm']:\n",
    "            print(f\"\\033[1m|{time_range:14} |\\033[0m\", end=' ')\n",
    "\n",
    "            for day in ['Monday', 'Tuesday', 'Wednesday', 'Thursday', 'Friday']:\n",
    "                found_variable = False\n",
    "                for slot, (slot_day, slot_time) in slot_mapping.items():\n",
    "                    if slot_day == day and slot_time == time_range:\n",
    "                        for (var, val) in solver_sch.items():\n",
    "                            if val == slot and var in class_variables: \n",
    "                                professor_name = professors[var][0]\n",
    "                                if var in R1:\n",
    "                                    print(f\"{var:<8}/{professor_name} room 1|\", end=' ')\n",
    "                                    found_variable = True\n",
    "                                    break\n",
    "                                elif var in R2:\n",
    "                                    print(f\"{var:<8}/{professor_name} room 2|\", end=' ')\n",
    "                                    found_variable = True\n",
    "                                    break  \n",
    "\n",
    "                if not found_variable:\n",
    "                    print(f\"{'                    ':<14}|\", end=' ')\n",
    "\n",
    "            print()\n",
    "    else:\n",
    "        print(f\"No solution found for {class_name}.\")\n",
    "        print()"
   ]
  },
  {
   "cell_type": "markdown",
   "metadata": {},
   "source": [
    "#### **Printing timetables**\n",
    "\n",
    "Timetables are printed for classes, using the 'print_table_for_class' function. If a solution is not found, a message will be displayed."
   ]
  },
  {
   "cell_type": "code",
   "execution_count": 14,
   "metadata": {},
   "outputs": [
    {
     "name": "stdout",
     "output_type": "stream",
     "text": [
      "\u001b[1mClass 1\u001b[0m\n",
      "\u001b[1m|Times\\Days     | Monday              | Tuesday             | Wednesday           | Thursday            | Friday              |\u001b[0m\n",
      "\u001b[1m|9am-11am       |\u001b[0m D13B    /P1   room 2|                     |                     |                     |                     | \n",
      "\u001b[1m|11am-1pm       |\u001b[0m D15A    /P2   room 1|                     |                     | D14B    /P2   room 1|                     | \n",
      "\u001b[1m|2pm-4pm        |\u001b[0m D12A    /P2   room 1| D11B    /P1   room 1|                     | D15B    /P2   room 1| D11A    /P1   room 1| \n",
      "\u001b[1m|4pm-6pm        |\u001b[0m                     | D13A    /P1   room 2|                     | D14A    /P2   room 1| D12B    /P2   room 1| \n",
      "\n",
      "\u001b[1mClass 2\u001b[0m\n",
      "\u001b[1m|Times\\Days     | Monday              | Tuesday             | Wednesday           | Thursday            | Friday              |\u001b[0m\n",
      "\u001b[1m|9am-11am       |\u001b[0m                     | D25B    /P1   room 1| D21A    /P2   room 2| D25A    /P1   room 1| D24A    /P1   room 2| \n",
      "\u001b[1m|11am-1pm       |\u001b[0m                     | D21B    /P2   room 2| D23A    /P2   room 2| D24B    /P1   room 2| D22A    /P1   room 1| \n",
      "\u001b[1m|2pm-4pm        |\u001b[0m                     | D23B    /P2   room 2| D22B    /P1   room 1|                     |                     | \n",
      "\u001b[1m|4pm-6pm        |\u001b[0m                     |                     |                     |                     |                     | \n"
     ]
    }
   ],
   "source": [
    "# Print table for Class 1\n",
    "print_table_for_class(\"Class 1\", C1, professors_dict)\n",
    "\n",
    "# Print a line break between tables\n",
    "print()\n",
    "\n",
    "# Print table for Class 2\n",
    "print_table_for_class(\"Class 2\", C2, professors_dict)"
   ]
  },
  {
   "cell_type": "markdown",
   "metadata": {},
   "source": [
    "Once you have the one-time solution, all that remains is to check whether all constraints have been applied. To begin, we can extract the following information:\n",
    "\n",
    "1. Each class only has a maximum of 3 classes per day.\n",
    "2. There is a free day for each class.\n",
    "3. The same subject is not taught in adjacent blocks.\n",
    "4. There are no \"holes\", so classes are always followed and there is no need to make unnecessary trips to school,\n",
    "\n",
    "The following scheme allows you to visualize the satisfaction of constraints:\n",
    "\n",
    "![Alt ​​text](images/image-12.png)\n",
    "\n",
    "In addition to the restrictions that are easily visualized by the timetable, such as the free day, a maximum of 3 subjects per day and the absence of \"holes\", there are overlaps between teachers and rooms. The two tables below represent the teachers' teaching each week for both classes and also the use of rooms throughout the week. After collecting the information, it was concluded that no teacher teaches two subjects simultaneously or the same room is used at the same time."
   ]
  },
  {
   "cell_type": "markdown",
   "metadata": {},
   "source": [
    "## **Practical Implementation**\n",
    "\n",
    "---\n",
    "\n",
    "### **Problem formulation**\n",
    "\n",
    "The appropriate objectives were achieved in the theoretical example, which leads us to believe that the practical application of the CSP created will be equally successful. To precisely guarantee the proper functioning of the algorithm, the resolution of a more real problem will now be implemented: the definition of the schedules for the Electrical Engineering classes and IPCA computers.\n",
    "\n",
    "To begin with, the subjects affected each year and each semester were defined. Together, the teachers who teach each subject were stipulated and were associated with an acronym, such as the subject, for simplicity. In this example we will form the schedules for the 1st and 2nd semester together to make the problem more complex. <br>The following table presents the necessary data:\n",
    "\n",
    "#### **1st Year:**\n",
    "|Class 1 |Acronym |Teacher |Acronym |Class 2 |Acronym |Teacher |Acronym |\n",
    "| ------- | ------ | ---- | ----- | ----- | ------ | ----- | ------ |\n",
    "| Algebra |[AL] |Teresa |[P1] |Fundamentals of Physics |[FF] |Natália |[P6] |\n",
    "|Digital Systems |[SD] |Brito |[P2] |Electricity Theory |[TE] |Carolina |[P7] |\n",
    "|Calculus |[CA] |Andreia |[P3] |Electrotechnics |[EL] |Jorge |[P8] |\n",
    "|Imperative Programming |[PI] |Duarte |[P4] |Advanced Data Structures |[EDA] |João |[P9] |\n",
    "|Theory of Electrical Circuits |[TCE] |Daniel |[P5] |Electronics I |[EI] |Pedro |[P10] |\n",
    "\n",
    "#### **2nd Year:**\n",
    "|Class 3 |Acronym |Teacher |Acronym |Class 4 |Acronym |Teacher |Acronym |\n",
    "| ------- | ------ | ---- | ----- | ----- | ------ | ----- | ------ |\n",
    "|Digital Systems Projects |[PSD] |Brito |[P2] |Storage and Data Access |[AAD] |Joaquim |[P14] |\n",
    "|Control Systems Theory |[TSC] |Artur |[P11] |Microcontrollers |[MCR] |Brito |[P2] |\n",
    "|Computer Systems Architecture |[ASC] |José |[P12] |Electrical Machines |[ME] |Moreira |[P15] |\n",
    "|Object Oriented Programming |[POO] |Helena |[P13] |Automation |[AUT] |Sérgio |[P16] |\n",
    "|Electronics II |[EII] |Pedro |[P10] |Statistics |[EST] |Estela |[P17] |\n",
    "\n",
    "\n",
    "By analyzing the tables, it can be seen that there will be 4 classes, two allocated to each curricular year, totaling 20 subjects. Alongside the UC's are the professors who will teach them, and in total 17 professors will be needed. Note that there are two teachers who teach more than one subject.\n"
   ]
  },
  {
   "cell_type": "markdown",
   "metadata": {},
   "source": [
    "To streamline and make the problem more complex, a set of rooms available for classes to be taught were defined. Once again, keeping the context relatively realistic, the rooms chosen are effectively IPCA rooms. Each room has the possibility of covering a fixed set of subjects. The following table expresses the rooms and their availability:\n",
    "\n",
    "#### **Rooms:**\n",
    "\n",
    "|Room |Acronym |Abbreviation |Associated disciplines |\n",
    "| ------------------- | ------------ | ----------- | --------------------------------- |\n",
    "|Automation and Robotics Laboratory |[R1] |[LAR] |[ASC], [ME], [AUT] |\n",
    "|Networks Laboratory |[R2] |[LR] |[TSC], [POO] |\n",
    "|Electronics Laboratory |[R3] |[LE] |[EL], [EI], [PSD], [EII], [MCR]|\n",
    "|Room T |[R4] |[Room T] |[SD],[AL],[CA],[PI],[TCE],[EDA],[AAD] |\n",
    "|Room N |[R5] |[Room N] |[FF], [TE], [EST] |\n",
    "\n",
    "\n",
    "Since this is a binary CSP, as in the theoretical implementation, the variable will be the set of subjects (in this case 20 subjects) and the domain must be the availability of teachers."
   ]
  },
  {
   "cell_type": "markdown",
   "metadata": {},
   "source": [
    "\n",
    "### **Library initialization**\n",
    "\n",
    "As expected, it will be necessary to include the python-constraint library in order to use its features."
   ]
  },
  {
   "cell_type": "code",
   "execution_count": 15,
   "metadata": {},
   "outputs": [],
   "source": [
    "# Import constraint library\n",
    "from constraint import *"
   ]
  },
  {
   "cell_type": "markdown",
   "metadata": {},
   "source": [
    "### **Variables**\n",
    "\n",
    "Once again, at this stage the Classes, Teachers and Rooms will be defined. Each of these sets will be associated with a list of disciplines, that is:\n",
    "\n",
    "* **Classes:** Each class has a set of Curricular Units to complete;\n",
    "* **Teachers:** At the beginning of the curricular year, teachers are assigned to a set of subjects;\n",
    "* **Rooms:** Each room is defined for a set of UC's taking into account the necessary material;\n",
    "\n",
    "With this, the definition of sets is based on previous tables, with acronyms prevailing in order to simplify the definition and visualization of schedules.\n",
    "\n",
    "To begin with, the following cell defines the sets related to each class:"
   ]
  },
  {
   "cell_type": "code",
   "execution_count": 16,
   "metadata": {},
   "outputs": [],
   "source": [
    "# 1º YEAR\n",
    "C11A = '-AL -SD -CA -PI TCE'.split()\n",
    "C12A = '-FF -TE -EL EDA -EI'.split()\n",
    "# 2º YEAR\n",
    "C21A = 'PSD TSC ASC POO EII'.split()\n",
    "C22A = 'AAD MCR -ME AUT EST'.split()"
   ]
  },
  {
   "cell_type": "markdown",
   "metadata": {},
   "source": [
    "Next, a process that was described in the theoretical implementation of the problem will be carried out. It involves adding the letter \"-A\" and the letter \"-B\" to each acronym of the UC's for each class. This will allow there to be 2 classes of the same subject in the same week. It is a very common practice in all courses and schools, to have around 4 hours of a subject each week, with 2 classes of 2 hours each.\n",
    "\n",
    "Either way, the cycle goes through the previously defined list of strings and adds \"-A\" and \"-B\" for each element of the original list. Each addition will be recorded in a new list of strings which we call C + Year + Class.\n",
    "\n",
    "![Alt ​​text](images/image.png)"
   ]
  },
  {
   "cell_type": "code",
   "execution_count": 17,
   "metadata": {},
   "outputs": [],
   "source": [
    "C11 = list([f'{disc}-A' for disc in C11A] + [f'{disc}-B' for disc in C11A])\n",
    "C12 = list([f'{disc}-A' for disc in C12A] + [f'{disc}-B' for disc in C12A])\n",
    "\n",
    "C21 = list([f'{disc}-A' for disc in C21A] + [f'{disc}-B' for disc in C21A])\n",
    "C22 = list([f'{disc}-A' for disc in C22A] + [f'{disc}-B' for disc in C22A])"
   ]
  },
  {
   "cell_type": "markdown",
   "metadata": {},
   "source": [
    "For the remaining sets, the definition is very similar to that of classes, however, here it will not be necessary to define lists as the order of the subjects will not be important later. Therefore, the teachers' definition now follows."
   ]
  },
  {
   "cell_type": "code",
   "execution_count": 18,
   "metadata": {},
   "outputs": [],
   "source": [
    "# Professors of 1st year subjects\n",
    "\n",
    "P11 = '-AL'.split()                  #Teresa\n",
    "P12 = '-SD PSD MCR'.split()          #Brito\n",
    "P13 = '-CA'.split()                  #Andreia\n",
    "P14 = '-PI'.split()                  #Duarte\n",
    "P15 = 'TCE'.split()                  #Daniel\n",
    "P16 = '-FF'.split()                  #Natália\n",
    "P17 = '-TE'.split()                  #Carolina\n",
    "P18 = '-EL'.split()                  #Jorge\n",
    "P19 = 'EDA'.split()                  #João\n",
    "P110 = '-EI EII'.split()             #Pedro\n",
    "\n",
    "# Professors of 2nd year subjects\n",
    "\n",
    "P21 = 'TSC'.split()                 #Artur\n",
    "P22 = 'ASC'.split()                 #José\n",
    "P23 = 'POO'.split()                 #Helena\n",
    "P24 = 'AAD'.split()                 #Joaquim\n",
    "P25 = '-ME'.split()                 #António\n",
    "P26 = 'AUT'.split()                 #Sérgio\n",
    "P27 = 'EST'.split()                 #Estela"
   ]
  },
  {
   "cell_type": "markdown",
   "metadata": {},
   "source": [
    "\n",
    "The creation of the set with the additions \"-A\" and \"-B\" in the disciplines also follows:"
   ]
  },
  {
   "cell_type": "code",
   "execution_count": 19,
   "metadata": {},
   "outputs": [],
   "source": [
    "# Professors of 1st year subjects\n",
    "P1 = set(f'{disc}-A' for disc in P11) | set(f'{disc}-B' for disc in P11)\n",
    "P2 = set(f'{disc}-A' for disc in P12) | set(f'{disc}-B' for disc in P12)\n",
    "P3 = set(f'{disc}-A' for disc in P13) | set(f'{disc}-B' for disc in P13)\n",
    "P4 = set(f'{disc}-A' for disc in P14) | set(f'{disc}-B' for disc in P14)\n",
    "P5 = set(f'{disc}-A' for disc in P15) | set(f'{disc}-B' for disc in P15)\n",
    "P6 = set(f'{disc}-A' for disc in P16) | set(f'{disc}-B' for disc in P16)\n",
    "P7 = set(f'{disc}-A' for disc in P17) | set(f'{disc}-B' for disc in P17)\n",
    "P8 = set(f'{disc}-A' for disc in P18) | set(f'{disc}-B' for disc in P18)\n",
    "P9 = set(f'{disc}-A' for disc in P19) | set(f'{disc}-B' for disc in P19)\n",
    "P10 = set(f'{disc}-A' for disc in P110) | set(f'{disc}-B' for disc in P110)\n",
    "\n",
    "# Professors of 2nd year subjects \n",
    "P11 = set(f'{disc}-A' for disc in P21) | set(f'{disc}-B' for disc in P21)\n",
    "P12 = set(f'{disc}-A' for disc in P22) | set(f'{disc}-B' for disc in P22)\n",
    "P13 = set(f'{disc}-A' for disc in P23) | set(f'{disc}-B' for disc in P23)\n",
    "P14 = set(f'{disc}-A' for disc in P24) | set(f'{disc}-B' for disc in P24)\n",
    "P15 = set(f'{disc}-A' for disc in P25) | set(f'{disc}-B' for disc in P25)\n",
    "P16 = set(f'{disc}-A' for disc in P26) | set(f'{disc}-B' for disc in P26)\n",
    "P17 = set(f'{disc}-A' for disc in P27) | set(f'{disc}-B' for disc in P27)"
   ]
  },
  {
   "cell_type": "markdown",
   "metadata": {},
   "source": [
    "Now the rooms will be defined according to the table above."
   ]
  },
  {
   "cell_type": "code",
   "execution_count": 20,
   "metadata": {},
   "outputs": [],
   "source": [
    "R11 = 'ASC -ME AUT'.split()                        #Lab automação e robótica\n",
    "R12 = 'TSC POO'.split()                            #Lab redes\n",
    "R13 = '-EL -EI PSD EII MCR'.split()                #Lab eletrónica\n",
    "R14 = '-SD -AL -CA -PI TCE EDA AAD'.split()        #Sala T\n",
    "R15 = '-FF -TE EST'.split()                        #Sala N"
   ]
  },
  {
   "cell_type": "markdown",
   "metadata": {},
   "source": [
    "\n",
    "And finally, a set is created with additions to the disciplines as was done in the previous steps."
   ]
  },
  {
   "cell_type": "code",
   "execution_count": 21,
   "metadata": {},
   "outputs": [],
   "source": [
    "R1 = set(f'{disc}-A' for disc in R11) | set(f'{disc}-B' for disc in R11) \n",
    "R2 = set(f'{disc}-A' for disc in R12) | set(f'{disc}-B' for disc in R12) \n",
    "R3 = set(f'{disc}-A' for disc in R13) | set(f'{disc}-B' for disc in R13)\n",
    "R4 = set(f'{disc}-A' for disc in R14) | set(f'{disc}-B' for disc in R14)\n",
    "R5 = set(f'{disc}-A' for disc in R15) | set(f'{disc}-B' for disc in R15)"
   ]
  },
  {
   "cell_type": "markdown",
   "metadata": {},
   "source": [
    "\n",
    "### **Solver and Domain**\n",
    "\n",
    "As in the theoretical case, here we will implement the Min-Conflits solver due to the speed of obtaining the solution."
   ]
  },
  {
   "cell_type": "code",
   "execution_count": 22,
   "metadata": {},
   "outputs": [],
   "source": [
    "sch_problem = Problem(MinConflictsSolver())"
   ]
  },
  {
   "cell_type": "markdown",
   "metadata": {},
   "source": [
    "As for the domain, it will once again correspond to the availability of teachers. This availability will dictate on which days and times each subject can be taught. Therefore, a set of teacher availability will be defined, represented in the following table. Note that first there is the table of the numerical arrangement of times throughout the week that was presented in the theoretical case.\n",
    "\n",
    "| |Monday | Tuesday | Wednesday | Thursday | Friday|\n",
    "| --------------- | ------- | -------- | -------- | ------- | -------- |\n",
    "|[9:00h - 11:00h] | 1 | 2 | 3 | 4 | 5 |\n",
    "|[11:00h - 13:00h] |6 | 7 | 8 | 9 | 10 |\n",
    "|[14:00h - 16:00h] | 11 | 12 | 13 | 14 | 15 |\n",
    "|[16:00h - 18:00h] |16 | 17 | 18 | 19 | 20 |\n",
    "\n",
    "\n",
    "#### **Teacher availability table**\n",
    "\n",
    "\n",
    "|Teacher |Acronym |Availability |Numerical availability |\n",
    "|---------------|-----------|---------------------|----------------------------------|\n",
    "|Teresa |[P1] |Every day except Wednesday |[1,6,11,16, 2,7,12,17, 4,9,14,19, 5,10,15,20] |\n",
    "|Brito |[P2] |Every day except the last time |[1,6,11, 2,7,12, 3,8,13, 4,9,14, 5,10,15] |\n",
    "|Andreia |[P3] |Every day except Friday |[1,6,11,16, 2,7,12,17, 3,8,13,18, 4,9,14,19] |\n",
    "|Duarte |[P4] |Monday and Thursday |[1,6,11,16, 4,9,14,19] |\n",
    "|Daniel |[P5] |Every day except Wednesday and Friday |[1,6,11,16, 2,7,12,17, 4,9,14,19] |\n",
    "|Natália |[P6] |Every day except Wednesday afternoon |[1,6,11,16, 2,7,12,17, 3,8, 5,10,15,20] |\n",
    "|Carolina |[P7] |Every morning except Thursday |[1,6,11,16, 2,7,12,17, 3,8,13,18, 5,10,15,20] |\n",
    "|Jorge |[P8] |Every day except Monday |[2,7,12,17, 3,8,13,18, 4,9,14,19, 5,10,15,20] |\n",
    "|João |[P9] |Every day except Monday and Tuesday |[3,8,13,18, 4,9,14,19, 5,10,15,20] |\n",
    "|Pedro |[P10] |Every day except Monday, Tuesday and Thursday morning |[11,16, 12,17, 3,8,13,18, 14,19, 5,10,15,20] |\n",
    "|Artur |[P11] |Every morning and Tuesday afternoon |[1,6, 2,7,12,17, 3,8, 4,9, 5,10] |\n",
    "|José |[P12] |Every day |list(range(1, 21)) |\n",
    "|Helena |[P13] |Every day except Monday and Thursday morning |[11,16, 2,7,12,17, 3,8,13,18, 14,19, 5,10,15,20] |\n",
    "|Joaquim |[P14] |Tuesdays and Fridays |[2,7,12,17, 5,10,15,20] |\n",
    "|António |[P15] |Monday morning, Wednesday and Thursday afternoon |[1.6, 13.18, 14.19] |\n",
    "|Sérgio |[P16] |Every day except Friday |[1,6,11,16, 2,7,12,17, 3,8,13,18, 4,9,14,19] |\n",
    "|Estela |[P17] |Every day except Wednesday |[1,6,11,16, 2,7,12,17, 4,9,14,19, 5,10,15,20] |\n"
   ]
  },
  {
   "cell_type": "markdown",
   "metadata": {},
   "source": [
    "It is worth mentioning that the availability for each teacher was defined randomly, and this must be relatively close to a real situation.\n",
    "Taking into account the previous table, the problem domain can be created."
   ]
  },
  {
   "cell_type": "code",
   "execution_count": 23,
   "metadata": {},
   "outputs": [],
   "source": [
    "# Professors of 1st year \n",
    "\n",
    "sch_problem.addVariables(P1, [1,6,11,16, 2,7,12,17, 4,9,14,19, 5,10,15,20] )                             \n",
    "sch_problem.addVariables(P2, [1,6,11, 2,7,12, 3,8,13, 4,9,14, 5,10,15] )                     \n",
    "sch_problem.addVariables(P3, [1,6,11,16, 2,7,12,17, 3,8,13,18, 4,9,14,19])                          \n",
    "sch_problem.addVariables(P4, [1,6,11,16, 4,9,14,19])     \n",
    "sch_problem.addVariables(P5, [1,6,11,16, 2,7,12,17, 4,9,14,19])           \n",
    "sch_problem.addVariables(P6, [1,6,11,16, 2,7,12,17, 3,8, 5,10,15,20])           \n",
    "sch_problem.addVariables(P7, [1,6,11,16, 2,7,12,17, 3,8,13,18, 5,10,15,20])                          \n",
    "sch_problem.addVariables(P8, [2,7,12,17, 3,8,13,18, 4,9,14,19, 5,10,15,20])                     \n",
    "sch_problem.addVariables(P9, [3,8,13,18, 4,9,14,19, 5,10,15,20])\n",
    "sch_problem.addVariables(P10, [11,16, 12,17, 3,8,13,18, 14,19, 5,10,15,20])\n",
    "\n",
    "# Professors of 2nd year\n",
    "\n",
    "sch_problem.addVariables(P11, [1,6, 2,7,12,17, 3,8, 4,9, 5,10])\n",
    "sch_problem.addVariables(P12, list(range(1, 21)))     \n",
    "sch_problem.addVariables(P13, [11,16, 2,7,12,17, 3,8,13,18, 14,19, 5,10,15,20])\n",
    "sch_problem.addVariables(P14, [2,7,12,17, 5,10,15,20])     \n",
    "sch_problem.addVariables(P15, [1,6, 13,18, 14,19])\n",
    "sch_problem.addVariables(P16, [1,6,11,16, 2,7,12,17, 3,8,13,18, 4,9,14,19])\n",
    "sch_problem.addVariables(P17, [1,6,11,16, 2,7,12,17, 4,9,14,19, 5,10,15,20])      "
   ]
  },
  {
   "cell_type": "markdown",
   "metadata": {},
   "source": [
    "### **Restrictions**\n",
    "\n",
    "The functions related to restrictions have already been addressed in the theoretical case, so they will not be explained at this stage. They will, however, be invoked in the following cell:"
   ]
  },
  {
   "cell_type": "code",
   "execution_count": 24,
   "metadata": {},
   "outputs": [],
   "source": [
    "#A class can't have more than 3 subjects per day\n",
    "def day_count(*values):\n",
    "    variable_counts = {}\n",
    "    flag = False\n",
    "    \n",
    "    for v in set(values):\n",
    "        day = (v - 1) % 5 + 1\n",
    "        if day in variable_counts:\n",
    "            variable_counts[day] += 1\n",
    "        else:\n",
    "            variable_counts[day] = 1\n",
    "    \n",
    "    for val in variable_counts:\n",
    "        if(variable_counts[val] > 3) or variable_counts[val] < 2:\n",
    "            flag = True\n",
    "   \n",
    "    if flag:\n",
    "        flag = False\n",
    "        return False\n",
    "    else:\n",
    "        flag = False\n",
    "        return True    \n",
    "\n",
    "#A class should have 1 free day in a week\n",
    "def only_four(*values):\n",
    "    variable_counts = {}\n",
    "    flag = False\n",
    "    \n",
    "    for v in set(values):\n",
    "        day = (v - 1) % 5 + 1\n",
    "        if day in variable_counts:\n",
    "            variable_counts[day] += 1\n",
    "        else:\n",
    "            variable_counts[day] = 1\n",
    "\n",
    "    if len(variable_counts) <= 4:\n",
    "        flag = True\n",
    "\n",
    "    return flag\n",
    "\n",
    "#A class can't have the same subject in the same day\n",
    "def different_subject(*values):\n",
    "    cnt = 0\n",
    "    counter = 0\n",
    "    for v in list(values):\n",
    "        counter = counter + 1\n",
    "        opose = (counter + 5) % 10\n",
    "        if v != (values[opose-1] - 5):\n",
    "            cnt = cnt + 1\n",
    "\n",
    "    if cnt >= 10:\n",
    "        return True\n",
    "    else:\n",
    "        cnt = 0\n",
    "        return False\n",
    "\n",
    "#A class can't have gaps between subjects\n",
    "def no_gaps(*values):\n",
    "    variable_counts = {}\n",
    "    flag = False\n",
    "    \n",
    "    for v in set(values):\n",
    "        day = (v - 1) % 5 + 1\n",
    "        if day in variable_counts:\n",
    "            variable_counts[day].append(v)\n",
    "        else:\n",
    "            variable_counts[day] = [v]\n",
    "\n",
    "    variable_counts_list = [variable_counts.get(day, []) for day in range(1, 6)]\n",
    "\n",
    "    for day, values in enumerate(variable_counts_list, start=1):\n",
    "        spacing_correct = all(values[i] - values[i-1] == 5 for i in range(1, len(values)))\n",
    "        if spacing_correct == False:\n",
    "            flag = True\n",
    "\n",
    "    return not flag"
   ]
  },
  {
   "cell_type": "markdown",
   "metadata": {},
   "source": [
    "\n",
    "In this way, the \"constraints\" will be applied to each class, teacher, room,...\n",
    "\n",
    "1. The classes in each class must all be in different blocks, that is, there cannot be subjects simultaneously in the same class;\n",
    "\n",
    "2. Each teacher cannot teach subjects simultaneously. The teacher does not have supernatural powers and therefore can only be in one class at a time;\n",
    "\n",
    "3. Each room cannot be used by different classes at the same time. If you want to go to a place full of people, there are already IPCA parties;\n",
    "\n",
    "4. Each day of classes cannot have more than 3 classes;\n",
    "\n",
    "5. Each class must have a free day;\n",
    "\n",
    "6. Classes must be followed, with no \"holes\". It wouldn't be nice to have one class at 9:00 am and another at 4:00 pm;\n",
    "\n",
    "7. Classes of the same subject must be taught at different times, in order to avoid having 4 consecutive hours of the same subject;\n",
    "\n",
    "\n",
    "The following scheme allows us to distinguish the nature of each restriction and better visualize its action in practice:\n",
    "\n",
    "![Alt text](images/image-13.png)"
   ]
  },
  {
   "cell_type": "markdown",
   "metadata": {},
   "source": [
    "The first 3 restrictions are easily implemented through the \"AllDiff\" attribute, which checks that the variables in a set are assigned different values ​​from each other. As such, we will want to run \"AllDiff\" for each class, teacher and room."
   ]
  },
  {
   "cell_type": "code",
   "execution_count": 25,
   "metadata": {},
   "outputs": [],
   "source": [
    "#1 Constraint\n",
    "\n",
    "sch_problem.addConstraint(AllDifferentConstraint(), C11)\n",
    "sch_problem.addConstraint(AllDifferentConstraint(), C12)\n",
    "sch_problem.addConstraint(AllDifferentConstraint(), C21)\n",
    "sch_problem.addConstraint(AllDifferentConstraint(), C22)"
   ]
  },
  {
   "cell_type": "code",
   "execution_count": 26,
   "metadata": {},
   "outputs": [],
   "source": [
    "#2 Constraint\n",
    "\n",
    "sch_problem.addConstraint(AllDifferentConstraint(), P1)\n",
    "sch_problem.addConstraint(AllDifferentConstraint(), P2)\n",
    "sch_problem.addConstraint(AllDifferentConstraint(), P3)\n",
    "sch_problem.addConstraint(AllDifferentConstraint(), P4)\n",
    "sch_problem.addConstraint(AllDifferentConstraint(), P5)\n",
    "sch_problem.addConstraint(AllDifferentConstraint(), P6)\n",
    "sch_problem.addConstraint(AllDifferentConstraint(), P7)\n",
    "sch_problem.addConstraint(AllDifferentConstraint(), P8)\n",
    "sch_problem.addConstraint(AllDifferentConstraint(), P9)\n",
    "sch_problem.addConstraint(AllDifferentConstraint(), P10)\n",
    "sch_problem.addConstraint(AllDifferentConstraint(), P11)\n",
    "sch_problem.addConstraint(AllDifferentConstraint(), P12)\n",
    "sch_problem.addConstraint(AllDifferentConstraint(), P13)\n",
    "sch_problem.addConstraint(AllDifferentConstraint(), P14)\n",
    "sch_problem.addConstraint(AllDifferentConstraint(), P15)\n",
    "sch_problem.addConstraint(AllDifferentConstraint(), P16)\n",
    "sch_problem.addConstraint(AllDifferentConstraint(), P17)"
   ]
  },
  {
   "cell_type": "code",
   "execution_count": 27,
   "metadata": {},
   "outputs": [],
   "source": [
    "#3 Constraint\n",
    "\n",
    "sch_problem.addConstraint(AllDifferentConstraint(), R1)\n",
    "sch_problem.addConstraint(AllDifferentConstraint(), R2)\n",
    "sch_problem.addConstraint(AllDifferentConstraint(), R3)\n",
    "sch_problem.addConstraint(AllDifferentConstraint(), R4)\n",
    "sch_problem.addConstraint(AllDifferentConstraint(), R5)"
   ]
  },
  {
   "cell_type": "markdown",
   "metadata": {},
   "source": [
    "The next restrictions are more specific and apply to classes. Therefore, to guarantee restriction 4, the *'day_count'* function is invoked."
   ]
  },
  {
   "cell_type": "code",
   "execution_count": 28,
   "metadata": {},
   "outputs": [],
   "source": [
    "#4 Constraint\n",
    "\n",
    "sch_problem.addConstraint(FunctionConstraint(day_count), C11)\n",
    "sch_problem.addConstraint(FunctionConstraint(day_count), C12)\n",
    "sch_problem.addConstraint(FunctionConstraint(day_count), C21)\n",
    "sch_problem.addConstraint(FunctionConstraint(day_count), C22)"
   ]
  },
  {
   "cell_type": "markdown",
   "metadata": {},
   "source": [
    "The 5th restriction has to do with the free day for each class. The *'only_four'* function will be invoked."
   ]
  },
  {
   "cell_type": "code",
   "execution_count": 29,
   "metadata": {},
   "outputs": [],
   "source": [
    "#5 Constraint\n",
    "\n",
    "sch_problem.addConstraint(FunctionConstraint(only_four), C11)\n",
    "sch_problem.addConstraint(FunctionConstraint(only_four), C12)\n",
    "sch_problem.addConstraint(FunctionConstraint(only_four), C21)\n",
    "sch_problem.addConstraint(FunctionConstraint(only_four), C22)"
   ]
  },
  {
   "cell_type": "markdown",
   "metadata": {},
   "source": [
    "The 6th restriction is one of the optional ones and corresponds to eliminating \"holes\" in the timetables. The function used is *'no_gaps'*."
   ]
  },
  {
   "cell_type": "code",
   "execution_count": 30,
   "metadata": {},
   "outputs": [],
   "source": [
    "#6 Constraint\n",
    "\n",
    "sch_problem.addConstraint(FunctionConstraint(no_gaps), C11)\n",
    "sch_problem.addConstraint(FunctionConstraint(no_gaps), C12)\n",
    "sch_problem.addConstraint(FunctionConstraint(no_gaps), C21)\n",
    "sch_problem.addConstraint(FunctionConstraint(no_gaps), C22)"
   ]
  },
  {
   "cell_type": "markdown",
   "metadata": {},
   "source": [
    "The last restriction is also optional and involves determining times where the same subject is not taught consecutively. The function used is *'different_subject'*."
   ]
  },
  {
   "cell_type": "code",
   "execution_count": 31,
   "metadata": {},
   "outputs": [],
   "source": [
    "#7 Constraint\n",
    "\n",
    "sch_problem.addConstraint(FunctionConstraint(different_subject), C12)\n",
    "sch_problem.addConstraint(FunctionConstraint(different_subject), C11)\n",
    "sch_problem.addConstraint(FunctionConstraint(different_subject), C22)\n",
    "sch_problem.addConstraint(FunctionConstraint(different_subject), C21)"
   ]
  },
  {
   "cell_type": "markdown",
   "metadata": {},
   "source": [
    "### **Result visualization**\n",
    "\n",
    "The last part corresponds to the visualization of the schedules created by the algorithm. According to the restrictions we define, the resulting schedules must correspond to what is expected, and any error, no matter how small, demonstrates the failure of the program. Obviously none of this would be presented if it contained a solution with errors, but here is an explanation of the purpose of the visualization function.\n",
    "\n",
    "The same function as the theoretical case will be used but with some changes to cover a larger class size."
   ]
  },
  {
   "cell_type": "code",
   "execution_count": 32,
   "metadata": {},
   "outputs": [
    {
     "name": "stdout",
     "output_type": "stream",
     "text": [
      "\u001b[1mClass 1\u001b[0m\n",
      "\u001b[1m|Times\\Days     | Monday                | Tuesday               | Wednesday             | Thursday              | Friday                |\u001b[0m\n",
      "\u001b[1m|9am-11am       |\u001b[0m TCE-A/Daniel    sala T|                       | -SD-B/Brito     sala T|                       |                       | \n",
      "\u001b[1m|11am-1pm       |\u001b[0m -PI-B/Duarte    sala T| -AL-B/Teresa    sala T| -CA-A/Andreia   sala T| -CA-B/Andreia   sala T|                       | \n",
      "\u001b[1m|2pm-4pm        |\u001b[0m -AL-A/Teresa    sala T| -SD-A/Brito     sala T|                       | TCE-B/Daniel    sala T|                       | \n",
      "\u001b[1m|4pm-6pm        |\u001b[0m                       |                       |                       | -PI-A/Duarte    sala T|                       | \n",
      "\n",
      "\u001b[1mClass 2\u001b[0m\n",
      "\u001b[1m|Times\\Days     | Monday                | Tuesday               | Wednesday             | Thursday              | Friday                |\u001b[0m\n",
      "\u001b[1m|9am-11am       |\u001b[0m                       |                       | -EI-A/Pedro         LE| EDA-B/João      sala T| -FF-B/Natália   sala N| \n",
      "\u001b[1m|11am-1pm       |\u001b[0m                       | -TE-A/Carolina  sala N| -FF-A/Natália   sala N| -EL-B/Jorge         LE| EDA-A/João      sala T| \n",
      "\u001b[1m|2pm-4pm        |\u001b[0m                       | -EI-B/Pedro         LE|                       |                       | -TE-B/Carolina  sala N| \n",
      "\u001b[1m|4pm-6pm        |\u001b[0m                       | -EL-A/Jorge         LE|                       |                       |                       | \n",
      "\n",
      "\u001b[1mClass 3\u001b[0m\n",
      "\u001b[1m|Times\\Days     | Monday                | Tuesday               | Wednesday             | Thursday              | Friday                |\u001b[0m\n",
      "\u001b[1m|9am-11am       |\u001b[0m                       | TSC-A/Artur         LR| TSC-B/Artur         LR|                       |                       | \n",
      "\u001b[1m|11am-1pm       |\u001b[0m PSD-A/Brito         LE| POO-A/Helena        LR| PSD-B/Brito         LE|                       |                       | \n",
      "\u001b[1m|2pm-4pm        |\u001b[0m ASC-B/José         LAR|                       | EII-B/Pedro         LE|                       | EII-A/Pedro         LE| \n",
      "\u001b[1m|4pm-6pm        |\u001b[0m POO-B/Helena        LR|                       |                       |                       | ASC-A/José         LAR| \n",
      "\n",
      "\u001b[1mClass 4\u001b[0m\n",
      "\u001b[1m|Times\\Days     | Monday                | Tuesday               | Wednesday             | Thursday              | Friday                |\u001b[0m\n",
      "\u001b[1m|9am-11am       |\u001b[0m MCR-A/Brito         LE| AAD-A/Joaquim   sala T|                       |                       |                       | \n",
      "\u001b[1m|11am-1pm       |\u001b[0m -ME-A/António      LAR| AUT-A/Sérgio       LAR|                       |                       | MCR-B/Brito         LE| \n",
      "\u001b[1m|2pm-4pm        |\u001b[0m EST-A/Estela    sala N| EST-B/Estela    sala N| AUT-B/Sérgio       LAR|                       | AAD-B/Joaquim   sala T| \n",
      "\u001b[1m|4pm-6pm        |\u001b[0m                       |                       | -ME-B/António      LAR|                       |                       | \n"
     ]
    }
   ],
   "source": [
    "# Result - just one solution\n",
    "soln_dts = sch_problem.getSolution()\n",
    "\n",
    "# Mapping of slots to days and times\n",
    "slot_mapping = {\n",
    "    1: ('Monday', '9am-11am'),\n",
    "    6: ('Monday', '11am-1pm'),\n",
    "    11: ('Monday', '2pm-4pm'),\n",
    "    16: ('Monday', '4pm-6pm'),\n",
    "    2: ('Tuesday', '9am-11am'),\n",
    "    7: ('Tuesday', '11am-1pm'),\n",
    "    12: ('Tuesday', '2pm-4pm'),\n",
    "    17: ('Tuesday', '4pm-6pm'),\n",
    "    3: ('Wednesday', '9am-11am'),\n",
    "    8: ('Wednesday', '11am-1pm'),\n",
    "    13: ('Wednesday', '2pm-4pm'),\n",
    "    18: ('Wednesday', '4pm-6pm'),\n",
    "    4: ('Thursday', '9am-11am'),\n",
    "    9: ('Thursday', '11am-1pm'),\n",
    "    14: ('Thursday', '2pm-4pm'),\n",
    "    19: ('Thursday', '4pm-6pm'),\n",
    "    5: ('Friday', '9am-11am'),\n",
    "    10: ('Friday', '11am-1pm'),\n",
    "    15: ('Friday', '2pm-4pm'),\n",
    "    20: ('Friday', '4pm-6pm'),\n",
    "}\n",
    "\n",
    "professors_dict = {\n",
    "    '-AL-A' : ('Teresa  ',),\n",
    "    '-AL-B' : ('Teresa  ',),\n",
    "    '-SD-A' : ('Brito   ',),\n",
    "    '-SD-B' : ('Brito   ',),\n",
    "    'PSD-A': ('Brito   ',),\n",
    "    'PSD-B': ('Brito   ',),\n",
    "    'MCR-A': ('Brito   ',),\n",
    "    'MCR-B': ('Brito   ',),\n",
    "    '-CA-A' : ('Andreia ',),\n",
    "    '-CA-B' : ('Andreia ',),\n",
    "    '-PI-A' : ('Duarte  ',),\n",
    "    '-PI-B' : ('Duarte  ',),\n",
    "    'TCE-A': ('Daniel  ',),\n",
    "    'TCE-B': ('Daniel  ',),\n",
    "    '-FF-A' : ('Natália ',),\n",
    "    '-FF-B' : ('Natália ',),\n",
    "    '-TE-A' : ('Carolina',),\n",
    "    '-TE-B' : ('Carolina',),\n",
    "    '-EL-A' : ('Jorge   ',),\n",
    "    '-EL-B' : ('Jorge   ',),\n",
    "    'EDA-A': ('João    ',),\n",
    "    'EDA-B': ('João    ',),\n",
    "    '-EI-A' : ('Pedro   ',),\n",
    "    '-EI-B' : ('Pedro   ',),\n",
    "    'EII-A': ('Pedro   ',),\n",
    "    'EII-B': ('Pedro   ',),\n",
    "    'TSC-A': ('Artur   ',),\n",
    "    'TSC-B': ('Artur   ',),\n",
    "    'ASC-A': ('José    ',),\n",
    "    'ASC-B': ('José    ',),\n",
    "    'POO-A': ('Helena  ',),\n",
    "    'POO-B': ('Helena  ',),\n",
    "    'AAD-A': ('Joaquim ',),\n",
    "    'AAD-B': ('Joaquim ',),\n",
    "    '-ME-A' : ('António ',),\n",
    "    '-ME-B' : ('António ',),\n",
    "    'AUT-A': ('Sérgio  ',),\n",
    "    'AUT-B': ('Sérgio  ',),\n",
    "    'EST-A': ('Estela  ',),\n",
    "    'EST-B': ('Estela  ',)\n",
    "}\n",
    "\n",
    "def print_table_for_class(class_name, class_variables, professors):\n",
    "    print(f\"\\033[1m{class_name}\\033[0m\")\n",
    "    print(f\"\\033[1m|Times\\\\Days     | Monday                | Tuesday               | Wednesday             | Thursday              | Friday                |\\033[0m\")\n",
    "\n",
    "    # Print table rows for the given class\n",
    "    if soln_dts is not None:\n",
    "        for time_range in ['9am-11am', '11am-1pm', '2pm-4pm', '4pm-6pm']:\n",
    "            print(f\"\\033[1m|{time_range:14} |\\033[0m\", end=' ')\n",
    "\n",
    "            for day in ['Monday', 'Tuesday', 'Wednesday', 'Thursday', 'Friday']:\n",
    "                found_variable = False\n",
    "                for slot, (slot_day, slot_time) in slot_mapping.items():\n",
    "                    if slot_day == day and slot_time == time_range:\n",
    "                        for (var, val) in soln_dts.items():\n",
    "                            if val == slot and var in class_variables: \n",
    "                                professor_name = professors[var][0]\n",
    "                                if var in R1:\n",
    "                                    print(f\"{var:<2}/{professor_name}     LAR|\", end=' ')\n",
    "                                    found_variable = True\n",
    "                                    break\n",
    "                                elif var in R2:\n",
    "                                    print(f\"{var:<2}/{professor_name}      LR|\", end=' ')\n",
    "                                    found_variable = True\n",
    "                                    break\n",
    "                                elif var in R3:\n",
    "                                    print(f\"{var:<2}/{professor_name}      LE|\", end=' ')\n",
    "                                    found_variable = True\n",
    "                                    break\n",
    "                                elif var in R4:\n",
    "                                    print(f\"{var:<2}/{professor_name}  sala T|\", end=' ')\n",
    "                                    found_variable = True\n",
    "                                    break\n",
    "                                elif var in R5:\n",
    "                                    print(f\"{var:<2}/{professor_name}  sala N|\", end=' ')\n",
    "                                    found_variable = True\n",
    "                                    break\n",
    "\n",
    "                                print(f\"{var:<22}|\", end=' ')\n",
    "                                found_variable = True\n",
    "                                break\n",
    "\n",
    "                if not found_variable:\n",
    "                    print(f\"{' ':<22}|\", end=' ')\n",
    "\n",
    "            print()\n",
    "    else:\n",
    "        print(f\"No solution found for {class_name}.\")\n",
    "        print()\n",
    "\n",
    "# Print table for Class 1\n",
    "print_table_for_class(\"Class 1\", C11, professors_dict)\n",
    "\n",
    "# Print a line break between tables\n",
    "print()\n",
    "\n",
    "# Print table for Class 2\n",
    "print_table_for_class(\"Class 2\", C12, professors_dict)\n",
    "\n",
    "print()\n",
    "\n",
    "# Print table for Class 3\n",
    "print_table_for_class(\"Class 3\", C21, professors_dict)\n",
    "\n",
    "print()\n",
    "\n",
    "# Print table for Class 4\n",
    "print_table_for_class(\"Class 4\", C22, professors_dict)"
   ]
  },
  {
   "cell_type": "markdown",
   "metadata": {},
   "source": [
    "### **Results Validation**\n",
    "\n",
    "4 timetables were presented, one for each class, and now it remains only to confirm that the algorithm correctly executed the restrictions, thus there being no discrepancies.\n",
    "\n",
    "For everything to be correct we must comply with the following information:\n",
    "\n",
    "1. Each class only has a maximum of 3 classes per day.\n",
    "2. There is a free day for each class.\n",
    "3. The same subject is not taught in adjacent blocks.\n",
    "4. There are no \"holes\", so classes are always followed and there is no need to make unnecessary trips to school.\n",
    "\n",
    "The following scheme allows you to visualize the satisfaction of constraints:\n",
    "\n",
    "![Alt ​​text](images/image-14.png)\n",
    "\n",
    "In addition to the restrictions that are easily visualized by the timetable, such as the free day, a maximum of 3 subjects per day and the absence of \"holes\", there are overlaps between teachers and rooms. The two tables at the bottom left represent the teachers' teaching each week for both classes and also the use of rooms throughout the week. After collecting the information, it was concluded that no teacher teaches two subjects simultaneously or the same room is used at the same time."
   ]
  },
  {
   "cell_type": "markdown",
   "metadata": {},
   "source": [
    "# **Conclusion**\n",
    "\n",
    "---\n",
    "\n",
    "In this work, we address the creation of school schedules using Constraint Satisfaction Problems (CSPs) in the context of the Fundamentals of Artificial Intelligence discipline. The main objective was to implement an algorithm that solved the problem of defining schedules for classes in a school, applying the concepts learned about CSPs.\n",
    "\n",
    "We start by introducing CSPs, highlighting their essential concepts, such as variables, domains and restrictions. Next, we present the specific problem of defining class schedules, detailing the associated requirements and preferences. The choice of the Python-Constraint library for practical implementation was justified based on its efficiency.\n",
    "\n",
    "The theoretical implementation covered preparing the environment, including the Python-Constraint library, defining variables, initializing the problem and formulating the constraints. We detail the different solution algorithms, such as Backtracking, Recursive Backtracking and Min Conflicts Solver, opting for the latter due to its effectiveness.\n",
    "\n",
    "After the theoretical phase, we move on to practical application, creating real timetables for IPCA Electrical Engineering and Computers classes. We consider different sets of subjects, teachers, rooms and define a set of constraints that reflect real-world challenges.\n",
    "\n",
    "Completing the work involved visualizing the results, displaying the schedules created by the algorithm for each class. We highlight the importance of restrictions in guaranteeing the validity and realism of the solutions obtained.\n",
    "\n",
    "In summary, this work provided a practical and meaningful application of CSPs in solving complex problems, showing how these concepts can be useful in optimizing real-world processes, such as preparing school schedules."
   ]
  }
 ],
 "metadata": {
  "kernelspec": {
   "display_name": "fai_tp1",
   "language": "python",
   "name": "python3"
  },
  "language_info": {
   "codemirror_mode": {
    "name": "ipython",
    "version": 3
   },
   "file_extension": ".py",
   "mimetype": "text/x-python",
   "name": "python",
   "nbconvert_exporter": "python",
   "pygments_lexer": "ipython3",
   "version": "3.9.13"
  },
  "orig_nbformat": 4
 },
 "nbformat": 4,
 "nbformat_minor": 2
}
